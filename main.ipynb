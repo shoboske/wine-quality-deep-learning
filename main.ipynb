{
  "nbformat_minor": 0,
  "cells": [
    {
      "cell_type": "markdown",
      "metadata": {
        "id": "view-in-github",
        "colab_type": "text"
      },
      "source": [
        "<a href=\"https://colab.research.google.com/github/shoboske/wine-quality-deep-learning/blob/main/main.ipynb\" target=\"_parent\"><img src=\"https://colab.research.google.com/assets/colab-badge.svg\" alt=\"Open In Colab\"/></a>"
      ]
    },
    {
      "cell_type": "code",
      "source": [
        "!pip3 install ucimlrepo scikit-learn pandas numpy matplotlib tensorflow"
      ],
      "metadata": {
        "id": "vzJADhLEUfJn",
        "collapsed": true
      },
      "execution_count": null,
      "outputs": []
    },
    {
      "cell_type": "code",
      "source": [
        "from ucimlrepo import fetch_ucirepo\n",
        "import numpy as np\n",
        "from sklearn.model_selection import train_test_split\n",
        "\n",
        "# fetch dataset\n",
        "wine_quality = fetch_ucirepo(id=186)\n",
        "\n",
        "# data (as pandas dataframes)\n",
        "X = wine_quality.data.features\n",
        "y = wine_quality.data.targets"
      ],
      "metadata": {
        "id": "zpzs1zHNVo1x",
        "collapsed": true
      },
      "execution_count": 4,
      "outputs": []
    },
    {
      "cell_type": "code",
      "source": [
        "from sklearn.model_selection import train_test_split\n",
        "from sklearn.neural_network import MLPClassifier\n",
        "from sklearn.feature_selection import SelectKBest, f_classif\n",
        "from sklearn.preprocessing import StandardScaler\n",
        "import tensorflow as tf\n",
        "\n",
        "scaler = StandardScaler()\n",
        "\n",
        "# Split data into training and testing sets\n",
        "X_train, X_test, y_train, y_test = train_test_split(X, y, test_size=0.5, random_state=42)\n",
        "\n",
        "# Feature Extraction using SelectKBest and ANOVA F-value\n",
        "selector = SelectKBest(f_classif, k=11) # Select top 5 features\n",
        "X_train_selected = selector.fit_transform(X_train, y_train.values.ravel())\n",
        "X_test_selected = selector.transform(X_test)\n",
        "\n",
        "scaler.fit(X_train_selected)\n",
        "X_train_selected = scaler.transform(X_train_selected)\n",
        "X_test_selected = scaler.transform(X_test_selected)\n",
        "\n",
        "# Create a simple neural network classifier\n",
        "mlp = MLPClassifier(hidden_layer_sizes=(100,200), max_iter=1000, alpha=1e-4, activation='relu',\n",
        "                    solver='adam', batch_size=50, early_stopping=True, validation_fraction=0.2,\n",
        "                    random_state=None,learning_rate_init=.1)\n",
        "mlp_tanh = MLPClassifier(hidden_layer_sizes=(500,500,500,500,500), max_iter=1000, alpha=1e-4, activation='relu',\n",
        "                    solver='adam', batch_size=50, early_stopping=True, validation_fraction=0.2,\n",
        "                    random_state=None,learning_rate_init=.1)\n",
        "\n",
        "model_keras = tf.keras.models.Sequential([\n",
        "  tf.keras.layers.Flatten(input_shape=X_train_selected.shape[1:]),\n",
        "  tf.keras.layers.Dense(100, activation='relu'),\n",
        "  tf.keras.layers.Dropout(0.2),\n",
        "  tf.keras.layers.Dense(200, activation='relu'),\n",
        "  tf.keras.layers.Dropout(0.3),\n",
        "  tf.keras.layers.Dense(200, activation='relu'),\n",
        "  tf.keras.layers.Dropout(0.2),\n",
        "  tf.keras.layers.Dense(11),\n",
        "  tf.keras.layers.Softmax()\n",
        "])\n",
        "\n",
        "loss_fn = tf.keras.losses.SparseCategoricalCrossentropy(from_logits=True)\n",
        "model_keras.compile(optimizer='adam', loss=loss_fn, metrics=['accuracy'])\n",
        "\n",
        "# Train the model\n",
        "mlp.fit(X_train_selected, y_train.values.ravel())\n",
        "mlp_tanh.fit(X_train_selected, y_train.values.ravel())\n",
        "model_keras.fit(X_train_selected, y_train.values.ravel(), epochs=50)"
      ],
      "metadata": {
        "id": "lalatCMrk_9a"
      },
      "execution_count": null,
      "outputs": []
    },
    {
      "cell_type": "code",
      "source": [
        "# Evaluate the model (you can use various metrics like accuracy, precision, recall, etc.)\n",
        "from sklearn.metrics import accuracy_score, recall_score, precision_score, f1_score\n",
        "import pandas as pd\n",
        "\n",
        "# Make predictions on the test set\n",
        "y_pred = mlp.predict(X_test_selected)\n",
        "\n",
        "accuracy = accuracy_score(y_test, y_pred)\n",
        "recall = recall_score(y_test, y_pred, average='weighted')\n",
        "precision = precision_score(y_test, y_pred, average='weighted', zero_division=0.0)\n",
        "f1 = f1_score(y_test, y_pred, average='weighted')\n",
        "\n",
        "y_pred_tanh = mlp_tanh.predict(X_test_selected)\n",
        "\n",
        "accuracy_tanh = accuracy_score(y_test, y_pred_tanh)\n",
        "recall_tanh = recall_score(y_test, y_pred_tanh, average='weighted')\n",
        "precision_tanh = precision_score(y_test, y_pred_tanh, average='weighted', zero_division=0.0)\n",
        "f1_tanh = f1_score(y_test, y_pred_tanh, average='weighted')\n",
        "\n",
        "y_pred_keras = model_keras.predict(X_test_selected)\n",
        "# Convert predictions to discrete class labels by selecting the index of the highest probability\n",
        "y_pred_keras_classes = np.argmax(y_pred_keras, axis=1)  # Get class labels\n",
        "\n",
        "accuracy_keras = accuracy_score(y_test, y_pred_keras_classes)\n",
        "recall_keras = recall_score(y_test, y_pred_keras_classes, average='weighted')\n",
        "precision_keras = precision_score(y_test, y_pred_keras_classes, average='weighted', zero_division=0.0)\n",
        "f1_keras = f1_score(y_test, y_pred_keras_classes, average='weighted')\n",
        "\n",
        "data = [\n",
        "    [\"MLP (100,200)\", accuracy, recall, precision, f1],\n",
        "    [\"MLP (500,500,500,500,500)\", accuracy_tanh, recall_tanh, precision_tanh, f1_tanh],\n",
        "    [\"Keras (100,200,200)\", accuracy_keras, recall_keras, precision_keras, f1_keras]\n",
        "]\n",
        "\n",
        "\n",
        "headers = [\"Model\", \"Accuracy\", \"Recall\", \"Precision\", \"F1 Score\"]\n",
        "\n",
        "print(pd.DataFrame(data, None, headers))"
      ],
      "metadata": {
        "colab": {
          "base_uri": "https://localhost:8080/"
        },
        "id": "TLlrU1ZInzHS",
        "outputId": "e89acb7b-6e60-4afb-e24a-ef8f15b953e4"
      },
      "execution_count": 28,
      "outputs": [
        {
          "output_type": "stream",
          "name": "stdout",
          "text": [
            "\u001b[1m102/102\u001b[0m \u001b[32m━━━━━━━━━━━━━━━━━━━━\u001b[0m\u001b[37m\u001b[0m \u001b[1m0s\u001b[0m 1ms/step\n",
            "                       Model  Accuracy    Recall  Precision  F1 Score\n",
            "0              MLP (100,200)  0.525700  0.525700   0.402124  0.455455\n",
            "1  MLP (500,500,500,500,500)  0.448138  0.448138   0.200828  0.277360\n",
            "2        Keras (100,200,200)  0.567251  0.567251   0.552487  0.554665\n"
          ]
        }
      ]
    }
  ],
  "nbformat": 4,
  "metadata": {
    "kernelspec": {
      "display_name": "Python 3",
      "name": "python3"
    },
    "language_info": {
      "name": "python"
    },
    "colab": {
      "provenance": [],
      "include_colab_link": true
    }
  }
}