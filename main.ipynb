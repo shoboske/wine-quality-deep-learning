{
  "nbformat_minor": 0,
  "cells": [
    {
      "cell_type": "markdown",
      "metadata": {
        "id": "view-in-github",
        "colab_type": "text"
      },
      "source": [
        "<a href=\"https://colab.research.google.com/github/shoboske/wine-quality-deep-learning/blob/main/main.ipynb\" target=\"_parent\"><img src=\"https://colab.research.google.com/assets/colab-badge.svg\" alt=\"Open In Colab\"/></a>"
      ]
    },
    {
      "cell_type": "code",
      "source": [
        "!pip3 install ucimlrepo scikit-learn pandas numpy matplotlib tensorflow"
      ],
      "metadata": {
        "id": "vzJADhLEUfJn",
        "collapsed": true
      },
      "execution_count": null,
      "outputs": []
    },
    {
      "cell_type": "code",
      "source": [
        "from ucimlrepo import fetch_ucirepo\n",
        "import numpy as np\n",
        "from sklearn.model_selection import train_test_split\n",
        "\n",
        "# fetch dataset\n",
        "wine_quality = fetch_ucirepo(id=186)\n",
        "red_wine = wine_quality.data.original.query('color == \"red\"')\n",
        "white_wine = wine_quality.data.original.query('color == \"white\"')\n",
        "\n",
        "X_red = red_wine.drop(columns=['quality', 'color'])\n",
        "y_red = red_wine['quality']\n",
        "\n",
        "X_white = white_wine.drop(columns=['quality', 'color'])\n",
        "y_white = white_wine['quality']"
      ],
      "metadata": {
        "id": "zpzs1zHNVo1x",
        "collapsed": true
      },
      "execution_count": 2,
      "outputs": []
    },
    {
      "cell_type": "code",
      "source": [
        "from sklearn.model_selection import train_test_split\n",
        "from sklearn.neural_network import MLPClassifier\n",
        "from sklearn.feature_selection import SelectKBest, f_classif\n",
        "from sklearn.preprocessing import StandardScaler\n",
        "from sklearn.pipeline import Pipeline\n",
        "\n",
        "import tensorflow as tf\n",
        "\n",
        "# Split data into training and testing sets\n",
        "X_red_train, X_red_test, y_red_train, y_red_test = train_test_split(X_red, y_red, test_size=0.8, random_state=42)\n",
        "X_white_train, X_white_test, y_white_train, y_white_test = train_test_split(X_white, y_white, test_size=0.8, random_state=42)\n",
        "\n",
        "# Create a Pipeline for feature selection and scaling\n",
        "# Define the pipeline steps\n",
        "pipeline = Pipeline([\n",
        "    ('selector', SelectKBest(f_classif, k=7)),  # Feature selection\n",
        "    ('scaler', StandardScaler())  # Scaling\n",
        "])\n",
        "\n",
        "# Fit and transform the pipeline on the training data (for both red and white wine)\n",
        "X_red_train_processed = pipeline.fit_transform(X_red_train, y_red_train)\n",
        "X_white_train_processed = pipeline.fit_transform(X_white_train, y_white_train)\n",
        "\n",
        "# Transform the test data (for both red and white wine)\n",
        "X_red_test_processed = pipeline.transform(X_red_test)\n",
        "X_white_test_processed = pipeline.transform(X_white_test)\n",
        "\n",
        "# Red Wine Model\n",
        "red_wine_model = tf.keras.models.Sequential(\n",
        "    name=\"MLP - Red wine\",\n",
        "    [\n",
        "        tf.keras.layers.Flatten(input_shape=X_red_train_processed.shape[1:]),\n",
        "        tf.keras.layers.Dense(128, activation='relu'),  # Increased units\n",
        "        tf.keras.layers.BatchNormalization(),  # Added Batch Normalization\n",
        "        tf.keras.layers.Dropout(0.3),  # Adjusted dropout rate\n",
        "        tf.keras.layers.Dense(64, activation='relu'),  # Decreased units, creating a bottleneck\n",
        "        tf.keras.layers.BatchNormalization(),\n",
        "        tf.keras.layers.Dropout(0.3),\n",
        "        tf.keras.layers.Dense(32, activation='relu'), # Decreased units, creating a bottleneck\n",
        "        tf.keras.layers.BatchNormalization(),\n",
        "        tf.keras.layers.Dropout(0.2),\n",
        "        tf.keras.layers.Dense(11, activation='softmax')  # Softmax in the output layer\n",
        "    ]\n",
        ")\n",
        "\n",
        "# White Wine Model (similar structure, adjust input shape)\n",
        "white_wine_model = tf.keras.models.Sequential(\n",
        "    name=\"MLP - White wine\",\n",
        "    [\n",
        "        tf.keras.layers.Flatten(input_shape=X_white_train_processed.shape[1:]),\n",
        "        tf.keras.layers.Dense(128, activation='relu'),\n",
        "        tf.keras.layers.BatchNormalization(),\n",
        "        tf.keras.layers.Dropout(0.3),\n",
        "        tf.keras.layers.Dense(64, activation='relu'),\n",
        "        tf.keras.layers.BatchNormalization(),\n",
        "        tf.keras.layers.Dropout(0.3),\n",
        "        tf.keras.layers.Dense(32, activation='relu'),\n",
        "        tf.keras.layers.BatchNormalization(),\n",
        "        tf.keras.layers.Dropout(0.2),\n",
        "        tf.keras.layers.Dense(11, activation='softmax')\n",
        "    ]\n",
        ")\n",
        "\n",
        "# Compile models (choose appropriate optimizer, loss, metrics)\n",
        "red_wine_model.compile(optimizer='adam', loss='sparse_categorical_crossentropy', metrics=['accuracy'])\n",
        "white_wine_model.compile(optimizer='adam', loss='sparse_categorical_crossentropy', metrics=['accuracy'])\n",
        "\n",
        "# Train the models\n",
        "red_wine_model.fit(X_red_train_processed, y_red_train, epochs=1000, validation_split=0.1, validation_freq=10, verbose=0)\n",
        "white_wine_model.fit(X_white_train_processed, y_white_train, epochs=1000, validation_split=0.1, validation_freq=10, verbose=0)"
      ],
      "metadata": {
        "id": "lalatCMrk_9a"
      },
      "execution_count": null,
      "outputs": []
    },
    {
      "cell_type": "code",
      "source": [
        "# Evaluate the model (you can use various metrics like accuracy, precision, recall, etc.)\n",
        "from sklearn.metrics import accuracy_score, recall_score, precision_score, f1_score\n",
        "import pandas as pd\n",
        "\n",
        "# Predictions for red and white wine\n",
        "y_red_wine_pred = red_wine_model.predict(X_red_test_processed)  # Predictions for red wine\n",
        "y_white_wine_pred = white_wine_model.predict(X_white_test_processed) # Predictions for white wine\n",
        "\n",
        "# Convert predictions to class labels (if necessary)\n",
        "y_red_wine_pred_classes = np.argmax(y_red_wine_pred, axis=1)\n",
        "y_white_wine_pred_classes = np.argmax(y_white_wine_pred, axis=1)\n",
        "\n",
        "# Evaluate Red Wine Model\n",
        "accuracy_red = accuracy_score(y_red_test, y_red_wine_pred_classes)\n",
        "recall_red = recall_score(y_red_test, y_red_wine_pred_classes, average='weighted')\n",
        "precision_red = precision_score(y_red_test, y_red_wine_pred_classes, average='weighted', zero_division=0.0)\n",
        "f1_red = f1_score(y_red_test, y_red_wine_pred_classes, average='weighted')\n",
        "\n",
        "# Evaluate White Wine Model\n",
        "accuracy_white = accuracy_score(y_white_test, y_white_wine_pred_classes)\n",
        "recall_white = recall_score(y_white_test, y_white_wine_pred_classes, average='weighted')\n",
        "precision_white = precision_score(y_white_test, y_white_wine_pred_classes, average='weighted', zero_division=0.0)\n",
        "f1_white = f1_score(y_white_test, y_white_wine_pred_classes, average='weighted')\n",
        "\n",
        "# Create data for DataFrame\n",
        "data = [\n",
        "    [f\"{red_wine_model.name} ({', '.join(map(str, [*red_wine_model.layers[0].input.shape[1:], *[layer.units for layer in red_wine_model.layers if isinstance(layer, tf.keras.layers.Dense)]]))})\", accuracy_red, recall_red, precision_red, f1_red],\n",
        "    [f\"{white_wine_model.name} ({', '.join(map(str, [*white_wine_model.layers[0].input.shape[1:], *[layer.units for layer in white_wine_model.layers if isinstance(layer, tf.keras.layers.Dense)]]))})\", accuracy_white, recall_white, precision_white, f1_white]\n",
        "]\n",
        "\n",
        "headers = [\"Model\", \"Accuracy\", \"Recall\", \"Precision\", \"F1 Score\"]\n",
        "\n",
        "print(red_wine_model.summary())\n",
        "print(white_wine_model.summary())\n",
        "\n",
        "print(pd.DataFrame(data, None, headers))"
      ],
      "metadata": {
        "colab": {
          "base_uri": "https://localhost:8080/"
        },
        "id": "TLlrU1ZInzHS",
        "outputId": "4c6090db-c9dd-4852-ccd1-1bb1ac6bedf5"
      },
      "execution_count": 27,
      "outputs": [
        {
          "output_type": "stream",
          "name": "stdout",
          "text": [
            "\u001b[1m40/40\u001b[0m \u001b[32m━━━━━━━━━━━━━━━━━━━━\u001b[0m\u001b[37m\u001b[0m \u001b[1m0s\u001b[0m 2ms/step\n",
            "                                           Model  Accuracy    Recall  \\\n",
            "0                                  MLP (100,200)  0.474219  0.474219   \n",
            "1                                       MLP Adam  0.549219  0.549219   \n",
            "2  sequential_5 (11, 80, 80, 80, 80, 80, 80, 11)  0.546094  0.546094   \n",
            "\n",
            "   Precision  F1 Score  \n",
            "0   0.396354  0.430062  \n",
            "1   0.453560  0.496695  \n",
            "2   0.523485  0.533358  \n"
          ]
        }
      ]
    }
  ],
  "nbformat": 4,
  "metadata": {
    "kernelspec": {
      "display_name": "Python 3",
      "name": "python3"
    },
    "language_info": {
      "name": "python"
    },
    "colab": {
      "provenance": [],
      "include_colab_link": true
    }
  }
}