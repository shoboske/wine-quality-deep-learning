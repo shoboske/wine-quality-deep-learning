{
  "nbformat_minor": 0,
  "cells": [
    {
      "cell_type": "markdown",
      "metadata": {
        "id": "view-in-github",
        "colab_type": "text"
      },
      "source": [
        "<a href=\"https://colab.research.google.com/github/shoboske/wine-quality-deep-learning/blob/main/main.ipynb\" target=\"_parent\"><img src=\"https://colab.research.google.com/assets/colab-badge.svg\" alt=\"Open In Colab\"/></a>"
      ]
    },
    {
      "cell_type": "code",
      "source": [
        "!pip3 install ucimlrepo scikit-learn pandas numpy matplotlib tensorflow"
      ],
      "metadata": {
        "id": "vzJADhLEUfJn",
        "collapsed": true,
        "outputId": "bcb29ceb-7180-4178-fc0a-0459e76a78e0",
        "colab": {
          "base_uri": "https://localhost:8080/"
        }
      },
      "execution_count": 1,
      "outputs": [
        {
          "output_type": "stream",
          "name": "stdout",
          "text": [
            "Installing collected packages: ucimlrepo\n",
            "Successfully installed ucimlrepo-0.0.7\n"
          ]
        }
      ]
    },
    {
      "cell_type": "code",
      "source": [
        "from ucimlrepo import fetch_ucirepo\n",
        "import numpy as np\n",
        "from sklearn.model_selection import train_test_split\n",
        "\n",
        "# fetch dataset\n",
        "wine_quality = fetch_ucirepo(id=186)\n",
        "red_wine = wine_quality.data.original.query('color == \"red\"')\n",
        "white_wine = wine_quality.data.original.query('color == \"white\"')\n",
        "\n",
        "X = red_wine.drop(columns=['quality', 'color'])\n",
        "y = red_wine['quality']\n",
        "\n",
        "X_white = white_wine.drop(columns=['quality', 'color'])\n",
        "y_white = white_wine['quality']"
      ],
      "metadata": {
        "id": "zpzs1zHNVo1x",
        "collapsed": true
      },
      "execution_count": 2,
      "outputs": []
    },
    {
      "cell_type": "code",
      "source": [
        "from sklearn.model_selection import train_test_split\n",
        "from sklearn.neural_network import MLPClassifier\n",
        "from sklearn.feature_selection import SelectKBest, f_classif\n",
        "from sklearn.preprocessing import StandardScaler\n",
        "import tensorflow as tf\n",
        "\n",
        "scaler = StandardScaler()\n",
        "\n",
        "# Split data into training and testing sets\n",
        "X_train, X_test, y_train, y_test = train_test_split(X, y, test_size=0.8, random_state=42)\n",
        "X_white_train, X_white_test, y_white_train, y_white_test = train_test_split(X_white, y_white, test_size=0.8, random_state=42)\n",
        "\n",
        "# Feature Extraction using SelectKBest and ANOVA F-value\n",
        "selector = SelectKBest(f_classif, k=11) # Select top 5 features\n",
        "X_train_selected = selector.fit_transform(X_train, y_train.values.ravel())\n",
        "X_test_selected = selector.transform(X_test)\n",
        "\n",
        "scaler.fit(X_train_selected)\n",
        "X_train_selected = scaler.transform(X_train_selected)\n",
        "X_test_selected = scaler.transform(X_test_selected)\n",
        "\n",
        "# Create a simple neural network classifier\n",
        "mlp = MLPClassifier(hidden_layer_sizes=(40,80,80,80,80,80,80,80,80), max_iter=1000, alpha=1e-4, activation='relu',\n",
        "                    solver='sgd', batch_size=50, early_stopping=True, validation_fraction=0.2,\n",
        "                    random_state=None,learning_rate_init=.001)\n",
        "\n",
        "mlp_adam = MLPClassifier(hidden_layer_sizes=(20,80,80,80,80,20), max_iter=1000, alpha=1e-4, activation='relu',\n",
        "                    solver='adam', batch_size=50, early_stopping=True, validation_fraction=0.2,\n",
        "                    random_state=None,learning_rate_init=.01)\n",
        "\n",
        "model_keras = tf.keras.models.Sequential([\n",
        "  tf.keras.layers.Flatten(input_shape=X_train_selected.shape[1:]),\n",
        "  tf.keras.layers.Dense(80, activation='relu'),\n",
        "   tf.keras.layers.Dropout(0.2),\n",
        "  tf.keras.layers.Dense(80, activation='relu'),\n",
        "  tf.keras.layers.Dense(80, activation='relu'),\n",
        "  tf.keras.layers.Dropout(0.2),\n",
        "  tf.keras.layers.Dense(80, activation='relu'),\n",
        "  tf.keras.layers.Dropout(0.2),\n",
        "  tf.keras.layers.Dense(80, activation='relu'),\n",
        "  tf.keras.layers.Dropout(0.2),\n",
        "  tf.keras.layers.Dense(80, activation='relu'),\n",
        "  tf.keras.layers.Dropout(0.2),\n",
        "  tf.keras.layers.Dense(11),\n",
        "  tf.keras.layers.Softmax()\n",
        "])\n",
        "\n",
        "loss_fn = tf.keras.losses.SparseCategoricalCrossentropy(from_logits=False)\n",
        "model_keras.compile(optimizer='sgd', loss=loss_fn, metrics=['accuracy'])\n",
        "\n",
        "# Train the model\n",
        "mlp.fit(X_train_selected, y_train.values.ravel())\n",
        "mlp_adam.fit(X_train_selected, y_train.values.ravel())\n",
        "model_keras.fit(X_train_selected, y_train.values.ravel(), epochs=1000, validation_split=0.1, validation_freq=10, verbose=0)"
      ],
      "metadata": {
        "id": "lalatCMrk_9a",
        "outputId": "81f234ca-8223-4754-fa42-4b11d62dd82a",
        "colab": {
          "base_uri": "https://localhost:8080/"
        }
      },
      "execution_count": 24,
      "outputs": [
        {
          "output_type": "stream",
          "name": "stderr",
          "text": [
            "/usr/local/lib/python3.10/dist-packages/keras/src/layers/reshaping/flatten.py:37: UserWarning: Do not pass an `input_shape`/`input_dim` argument to a layer. When using Sequential models, prefer using an `Input(shape)` object as the first layer in the model instead.\n",
            "  super().__init__(**kwargs)\n"
          ]
        },
        {
          "output_type": "execute_result",
          "data": {
            "text/plain": [
              "<keras.src.callbacks.history.History at 0x7a9259ad06d0>"
            ]
          },
          "metadata": {},
          "execution_count": 24
        }
      ]
    },
    {
      "cell_type": "code",
      "source": [
        "# Evaluate the model (you can use various metrics like accuracy, precision, recall, etc.)\n",
        "from sklearn.metrics import accuracy_score, recall_score, precision_score, f1_score\n",
        "import pandas as pd\n",
        "\n",
        "# Make predictions on the test set\n",
        "y_pred = mlp.predict(X_test_selected)\n",
        "\n",
        "accuracy = accuracy_score(y_test, y_pred)\n",
        "recall = recall_score(y_test, y_pred, average='weighted')\n",
        "precision = precision_score(y_test, y_pred, average='weighted', zero_division=0.0)\n",
        "f1 = f1_score(y_test, y_pred, average='weighted')\n",
        "\n",
        "y_pred_tanh = mlp_adam.predict(X_test_selected)\n",
        "\n",
        "accuracy_tanh = accuracy_score(y_test, y_pred_tanh)\n",
        "recall_tanh = recall_score(y_test, y_pred_tanh, average='weighted')\n",
        "precision_tanh = precision_score(y_test, y_pred_tanh, average='weighted', zero_division=0.0)\n",
        "f1_tanh = f1_score(y_test, y_pred_tanh, average='weighted')\n",
        "\n",
        "y_pred_keras = model_keras.predict(X_test_selected)\n",
        "# Convert predictions to discrete class labels by selecting the index of the highest probability\n",
        "y_pred_keras_classes = np.argmax(y_pred_keras, axis=1)  # Get class labels\n",
        "\n",
        "accuracy_keras = accuracy_score(y_test, y_pred_keras_classes)\n",
        "recall_keras = recall_score(y_test, y_pred_keras_classes, average='weighted')\n",
        "precision_keras = precision_score(y_test, y_pred_keras_classes, average='weighted', zero_division=0.0)\n",
        "f1_keras = f1_score(y_test, y_pred_keras_classes, average='weighted')\n",
        "\n",
        "data = [\n",
        "    [\"MLP (100,200)\", accuracy, recall, precision, f1],\n",
        "    [\"MLP Adam\", accuracy_tanh, recall_tanh, precision_tanh, f1_tanh],\n",
        "    [f\"{model_keras.name} ({', '.join(map(str, [*model_keras.layers[0].input.shape[1:], *[layer.units for layer in model_keras.layers if isinstance(layer, tf.keras.layers.Dense)]]))})\", accuracy_keras, recall_keras, precision_keras, f1_keras]\n",
        "]\n",
        "\n",
        "\n",
        "headers = [\"Model\", \"Accuracy\", \"Recall\", \"Precision\", \"F1 Score\"]\n",
        "\n",
        "print(pd.DataFrame(data, None, headers))"
      ],
      "metadata": {
        "colab": {
          "base_uri": "https://localhost:8080/"
        },
        "id": "TLlrU1ZInzHS",
        "outputId": "4c6090db-c9dd-4852-ccd1-1bb1ac6bedf5"
      },
      "execution_count": 27,
      "outputs": [
        {
          "output_type": "stream",
          "name": "stdout",
          "text": [
            "\u001b[1m40/40\u001b[0m \u001b[32m━━━━━━━━━━━━━━━━━━━━\u001b[0m\u001b[37m\u001b[0m \u001b[1m0s\u001b[0m 2ms/step\n",
            "                                           Model  Accuracy    Recall  \\\n",
            "0                                  MLP (100,200)  0.474219  0.474219   \n",
            "1                                       MLP Adam  0.549219  0.549219   \n",
            "2  sequential_5 (11, 80, 80, 80, 80, 80, 80, 11)  0.546094  0.546094   \n",
            "\n",
            "   Precision  F1 Score  \n",
            "0   0.396354  0.430062  \n",
            "1   0.453560  0.496695  \n",
            "2   0.523485  0.533358  \n"
          ]
        }
      ]
    }
  ],
  "nbformat": 4,
  "metadata": {
    "kernelspec": {
      "display_name": "Python 3",
      "name": "python3"
    },
    "language_info": {
      "name": "python"
    },
    "colab": {
      "provenance": [],
      "include_colab_link": true
    }
  }
}